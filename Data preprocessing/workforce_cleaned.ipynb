{
 "cells": [
  {
   "cell_type": "code",
   "execution_count": 13,
   "id": "a7c9a1e4-63db-4661-959f-09dc04172db9",
   "metadata": {},
   "outputs": [
    {
     "name": "stderr",
     "output_type": "stream",
     "text": [
      "C:\\Users\\shoaib\\AppData\\Local\\Temp\\ipykernel_57232\\261166274.py:41: FutureWarning: A value is trying to be set on a copy of a DataFrame or Series through chained assignment using an inplace method.\n",
      "The behavior will change in pandas 3.0. This inplace method will never work because the intermediate object on which we are setting values always behaves as a copy.\n",
      "\n",
      "For example, when doing 'df[col].method(value, inplace=True)', try using 'df.method({col: value}, inplace=True)' or df[col] = df[col].method(value) instead, to perform the operation inplace on the original object.\n",
      "\n",
      "\n",
      "  df[\"Type of professional\"].ffill(inplace=True)\n"
     ]
    },
    {
     "name": "stdout",
     "output_type": "stream",
     "text": [
      "✅  Clean workforce table → clean\\cihi_workforce_long.csv   rows=1,895\n"
     ]
    }
   ],
   "source": [
    "\"\"\"\n",
    "clean_workforce.py  ────────────────────────────────────────────\n",
    "Tidy the combined CIHI workforce sheet (80-column wide layout)\n",
    "into a long table:\n",
    "    province | year | profession | count | per_100k\n",
    "\n",
    "Usage:\n",
    "    python clean_workforce.py\n",
    "\"\"\"\n",
    "\n",
    "# ── 0. imports & config ───────────────────────────────────────\n",
    "import re\n",
    "from pathlib import Path\n",
    "import pandas as pd\n",
    "\n",
    "FILE    = Path(\"C://Users//shoaib//Documents//CIHI_HealthWorkforce_Prov_2019_2023-1.xlsx\")\n",
    "OUT_CSV = Path(\"clean/cihi_workforce_long.csv\")\n",
    "OUT_CSV.parent.mkdir(exist_ok=True)\n",
    "\n",
    "SUPPRESSION = {\"–\", \"-\", \"—\", \"<5\", \"<6\", \"<10\", \"Suppressed\", \"NR\"}\n",
    "PROV_MAP = {\n",
    "    \"newfoundland and labrador\":\"NL\",\"nl\":\"NL\",\n",
    "    \"prince edward island\":\"PE\",\"pei\":\"PE\",\"p.e.i.\":\"PE\",\n",
    "    \"nova scotia\":\"NS\",\"ns\":\"NS\",\n",
    "    \"new brunswick\":\"NB\",\"nb\":\"NB\",\n",
    "    \"quebec\":\"QC\",\"qc\":\"QC\",\n",
    "    \"ontario\":\"ON\",\"on\":\"ON\",\n",
    "    \"manitoba\":\"MB\",\"mb\":\"MB\",\n",
    "    \"saskatchewan\":\"SK\",\"sk\":\"SK\",\n",
    "    \"alberta\":\"AB\",\"ab\":\"AB\",\n",
    "    \"british columbia\":\"BC\",\"bc\":\"BC\",\n",
    "    \"yukon\":\"YT\",\"yt\":\"YT\",\n",
    "    \"northwest territories\":\"NT\",\"nt\":\"NT\",\n",
    "    \"nunavut\":\"NU\",\"nu\":\"NU\",\n",
    "}\n",
    "\n",
    "# ── 1. read the single sheet ─────────────────────────────────\n",
    "df = pd.read_excel(FILE, sheet_name=0, header=0)\n",
    "\n",
    "# ── 2. forward-fill the profession name (rows below each group are NaN)\n",
    "df[\"Type of professional\"].ffill(inplace=True)\n",
    "\n",
    "# ── 3. replace suppression tokens with NA\n",
    "df.replace(list(SUPPRESSION), pd.NA, inplace=True)\n",
    "\n",
    "# ── 4. melt wide → long  (province + metric in one string)\n",
    "id_cols = [\"Type of professional\", \"Year\"]\n",
    "long = (df\n",
    "        .melt(id_vars=id_cols,\n",
    "              var_name=\"prov_metric\",\n",
    "              value_name=\"value\")\n",
    "        .dropna(subset=[\"value\"]))\n",
    "\n",
    "# ── 5. split \"Alberta: Count\" → province / metric\n",
    "long[[\"province_raw\", \"metric\"]] = long[\"prov_metric\"].str.split(\":\", n=1, expand=True)\n",
    "long[\"metric\"]   = long[\"metric\"].str.strip().str.lower()          # \"count\", \"per 100,000 population\", etc.\n",
    "long[\"province\"] = (long[\"province_raw\"].str.lower().str.strip()\n",
    "                                      .map(PROV_MAP)\n",
    "                                      .fillna(long[\"province_raw\"].str.strip()))\n",
    "# keep only rows that have recognised province codes\n",
    "long = long[long[\"province\"].isin(PROV_MAP.values())]\n",
    "\n",
    "# ── 6. pivot so each metric is its own column  ----------------\n",
    "tidy = (long\n",
    "        .pivot_table(index=[\"province\", \"Year\", \"Type of professional\"],\n",
    "                     columns=\"metric\",\n",
    "                     values=\"value\",\n",
    "                     aggfunc=\"first\")\n",
    "        .reset_index())\n",
    "\n",
    "# ── 7. rename & cast types   ----------------------------------\n",
    "tidy.rename(columns={\n",
    "    \"Type of professional\":\"profession\",\n",
    "    \"Year\":\"year\",\n",
    "    \"count\":\"count\",\n",
    "    \"per 100,000 population\":\"per_100k\",\n",
    "    # (add more renames if you decide to keep fte, female %, etc.)\n",
    "}, inplace=True)\n",
    "\n",
    "tidy[\"year\"]  = tidy[\"year\"].astype(\"int16\")\n",
    "tidy[\"count\"] = pd.to_numeric(tidy[\"count\"], errors=\"coerce\")\n",
    "tidy[\"per_100k\"] = pd.to_numeric(tidy.get(\"per_100k\"), errors=\"coerce\")\n",
    "\n",
    "# ── 8. export   ------------------------------------------------\n",
    "tidy.to_csv(OUT_CSV, index=False)\n",
    "print(f\"✅  Clean workforce table → {OUT_CSV}   rows={len(tidy):,}\")\n"
   ]
  },
  {
   "cell_type": "code",
   "execution_count": null,
   "id": "a08bd839-38f4-4181-ac07-71ba0d3857fb",
   "metadata": {},
   "outputs": [],
   "source": []
  },
  {
   "cell_type": "code",
   "execution_count": null,
   "id": "324a8a9c-1b24-4b74-89ed-1db3ec737b6c",
   "metadata": {},
   "outputs": [],
   "source": []
  }
 ],
 "metadata": {
  "kernelspec": {
   "display_name": "Python [conda env:base] *",
   "language": "python",
   "name": "conda-base-py"
  },
  "language_info": {
   "codemirror_mode": {
    "name": "ipython",
    "version": 3
   },
   "file_extension": ".py",
   "mimetype": "text/x-python",
   "name": "python",
   "nbconvert_exporter": "python",
   "pygments_lexer": "ipython3",
   "version": "3.9.21"
  }
 },
 "nbformat": 4,
 "nbformat_minor": 5
}
