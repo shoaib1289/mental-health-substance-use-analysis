{
 "cells": [
  {
   "cell_type": "code",
   "execution_count": 3,
   "id": "f630fef8-3de4-481c-87b4-a1a7efdf4ee3",
   "metadata": {},
   "outputs": [
    {
     "name": "stdout",
     "output_type": "stream",
     "text": [
      "198 duplicate province-year rows (check breakdown filter)\n",
      "Clean file → clean\\cihi_substance_hosp_long.csv   rows=296\n"
     ]
    }
   ],
   "source": [
    "import re\n",
    "from pathlib import Path\n",
    "import pandas as pd\n",
    "\n",
    "FILE  = Path(\"C://Users//shoaib//Desktop//Mental_health_ed_project//820-hospital-stays-for-harm-caused-by-substance-use-data-table-en (1).xlsx\") \n",
    "SHEET = \"Table 1\"                                            \n",
    "OUT   = Path(\"clean/cihi_substance_hosp_long.csv\")\n",
    "OUT.parent.mkdir(exist_ok=True)\n",
    "\n",
    "SUPPRESSION = {\"–\", \"-\", \"N/A\", \"n/a\", \"Not applicable\", \"NR\"}\n",
    "\n",
    "KEEP_BREAKDOWN = \"Not applicable\"   # or \"Age group\", \"Recorded sex or gender\", ...\n",
    "\n",
    "PROV_MAP = {  # canonical two-letter province codes\n",
    "    \"Newfoundland and Labrador\":\"NL\", \"Prince Edward Island\":\"PE\", \"Nova Scotia\":\"NS\",\n",
    "    \"New Brunswick\":\"NB\", \"Quebec\":\"QC\", \"Ontario\":\"ON\", \"Manitoba\":\"MB\",\n",
    "    \"Saskatchewan\":\"SK\", \"Alberta\":\"AB\", \"British Columbia\":\"BC\", \"Yukon\":\"YT\",\n",
    "    \"Northwest Territories\":\"NT\", \"Nunavut\":\"NU\", \"Canada\":\"CAN\"\n",
    "}\n",
    "\n",
    "df = pd.read_excel(FILE, sheet_name=SHEET, dtype=str)\n",
    "\n",
    "# normalise headers\n",
    "df.columns = [re.sub(r\"[^0-9a-z]+\", \"_\", str(c).strip().lower()).strip(\"_\")\n",
    "              for c in df.columns]\n",
    "\n",
    "# 2 ────────────── basic cleaning ─────────────────────────────────────\n",
    "df.replace(list(SUPPRESSION), pd.NA, inplace=True)\n",
    "\n",
    "# keep only the rows you need (totals or chosen breakdown)\n",
    "df = df[df[\"level_1_breakdown\"].fillna(\"Not applicable\").str.contains(KEEP_BREAKDOWN, case=False)]\n",
    "\n",
    "# province codes\n",
    "df[\"province\"] = (df[\"province_territory\"]\n",
    "                  .fillna(\"Canada\")\n",
    "                  .str.strip()\n",
    "                  .map(PROV_MAP)\n",
    "                  .fillna(df[\"province_territory\"].str.strip()))\n",
    "\n",
    "# fiscal year: grab first 4-digit year in \"2017–2018\"\n",
    "df[\"fiscal_year\"] = (df[\"time_frame\"]\n",
    "                     .str.extract(r\"(\\d{4})\")\n",
    "                     .astype(\"Int16\"))\n",
    "\n",
    "# numeric casts\n",
    "df[\"count\"]      = pd.to_numeric(df[\"numerator\"],   errors=\"coerce\")\n",
    "df[\"population\"] = pd.to_numeric(df[\"denominator\"], errors=\"coerce\")\n",
    "df[\"crude_rate\"] = pd.to_numeric(df[\"crude_result\"], errors=\"coerce\")\n",
    "\n",
    "tidy = df[[\"province\", \"fiscal_year\", \"count\", \"population\", \"crude_rate\"]]\n",
    "\n",
    "dups = tidy.duplicated([\"province\", \"fiscal_year\"]).sum()\n",
    "if dups:\n",
    "    print(f\"{dups} duplicate province-year rows (check breakdown filter)\")\n",
    "\n",
    "# 4 ────────────── save ───────────────────────────────────────────────\n",
    "tidy.to_csv(OUT, index=False)\n",
    "print(f\"Clean file → {OUT}   rows={len(tidy):,}\")\n"
   ]
  },
  {
   "cell_type": "code",
   "execution_count": 5,
   "id": "2ada5677-4407-4cde-8026-7a0e3f88eb06",
   "metadata": {},
   "outputs": [
    {
     "name": "stdout",
     "output_type": "stream",
     "text": [
      "final tidy file → clean/cihi_substance_hosp_final.csv   rows=97\n"
     ]
    }
   ],
   "source": [
    "import pandas as pd\n",
    "\n",
    "PATH_IN  = \"clean/cihi_substance_hosp_long.csv\"\n",
    "PATH_OUT = \"clean/cihi_substance_hosp_final.csv\"\n",
    "\n",
    "df = pd.read_csv(PATH_IN)\n",
    "\n",
    "# 1. drop banner \n",
    "df = df[df[\"fiscal_year\"].notna()].copy()\n",
    "\n",
    "# 2. cast fiscal_year\n",
    "df[\"fiscal_year\"] = df[\"fiscal_year\"].astype(\"int16\")\n",
    "\n",
    "# 3. collapse duplicates (province-year)\n",
    "agg = (df.groupby([\"province\", \"fiscal_year\"], as_index=False)\n",
    "         .agg({\"count\":\"sum\", \"population\":\"sum\"}))\n",
    "\n",
    "# 4. derive crude rate per 100 000\n",
    "agg[\"crude_rate\"] = agg[\"count\"] / agg[\"population\"] * 100_000\n",
    "\n",
    "# 5. flag rows still missing counts/pop\n",
    "agg[\"was_suppressed\"] = agg[\"count\"].isna() | agg[\"population\"].isna()\n",
    "\n",
    "# 6. save\n",
    "agg.to_csv(PATH_OUT, index=False)\n",
    "print(f\"final tidy file → {PATH_OUT}   rows={len(agg):,}\")\n"
   ]
  },
  {
   "cell_type": "code",
   "execution_count": null,
   "id": "67b5d658-1fd8-45ea-af82-ccd8ece410c4",
   "metadata": {},
   "outputs": [],
   "source": []
  }
 ],
 "metadata": {
  "kernelspec": {
   "display_name": "Python [conda env:base] *",
   "language": "python",
   "name": "conda-base-py"
  },
  "language_info": {
   "codemirror_mode": {
    "name": "ipython",
    "version": 3
   },
   "file_extension": ".py",
   "mimetype": "text/x-python",
   "name": "python",
   "nbconvert_exporter": "python",
   "pygments_lexer": "ipython3",
   "version": "3.9.21"
  }
 },
 "nbformat": 4,
 "nbformat_minor": 5
}
